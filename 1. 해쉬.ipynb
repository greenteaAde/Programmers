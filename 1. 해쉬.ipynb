{
 "cells": [
  {
   "cell_type": "markdown",
   "metadata": {},
   "source": [
    "## 해쉬"
   ]
  },
  {
   "cell_type": "markdown",
   "metadata": {},
   "source": [
    "### 1. 완주하지 못한 선수"
   ]
  },
  {
   "cell_type": "code",
   "execution_count": 417,
   "metadata": {},
   "outputs": [],
   "source": [
    "# My Solution\n",
    "\n",
    "def solution(participant, completion):\n",
    "    participant.sort()\n",
    "    completion.sort()\n",
    "    completion.append(0)\n",
    "\n",
    "    for p, c in zip(participant, completion):\n",
    "        if p != c:\n",
    "            return p"
   ]
  },
  {
   "cell_type": "code",
   "execution_count": 419,
   "metadata": {},
   "outputs": [],
   "source": [
    "# Hash 사용\n",
    "\n",
    "def solution(participant, completion):\n",
    "    answer = ''\n",
    "    temp = 0\n",
    "    dic = {}\n",
    "    for part in participant:\n",
    "        dic[hash(part)] = part\n",
    "        temp += int(hash(part))\n",
    "    for com in completion:\n",
    "        temp -= hash(com)\n",
    "    answer = dic[temp]\n",
    "\n",
    "    return answer"
   ]
  },
  {
   "cell_type": "code",
   "execution_count": 420,
   "metadata": {},
   "outputs": [],
   "source": [
    "# collections.Counter 사용\n",
    "\n",
    "import collections\n",
    "\n",
    "def solution(participant, completion):\n",
    "    answer = collections.Counter(participant) - collections.Counter(completion)\n",
    "    return list(answer.keys())[0]"
   ]
  },
  {
   "cell_type": "markdown",
   "metadata": {},
   "source": [
    "### 2. 전화번호 목록"
   ]
  },
  {
   "cell_type": "code",
   "execution_count": null,
   "metadata": {},
   "outputs": [],
   "source": [
    "# My Solution\n",
    "\n",
    "def solution(phone_book):\n",
    "    phone_book.sort()\n",
    "    book_len = len(phone_book)\n",
    "    \n",
    "    for i in range(book_len):\n",
    "        for j in range(i+1, book_len):\n",
    "            if phone_book[j].startswith(phone_book[i]):\n",
    "                return False\n",
    "            else:\n",
    "                return True\n",
    "\n",
    "# 정확성: 84.6\n",
    "# 효율성: 15.4\n",
    "# 합계: 100.0 / 100.0"
   ]
  },
  {
   "cell_type": "markdown",
   "metadata": {},
   "source": [
    "### 3. 위장"
   ]
  },
  {
   "cell_type": "code",
   "execution_count": null,
   "metadata": {},
   "outputs": [],
   "source": [
    "# My Solution\n",
    "\n",
    "from collections import defaultdict\n",
    "\n",
    "def solution(clothes):\n",
    "    dict_ = defaultdict(list)\n",
    "    for (x, y) in clothes:\n",
    "        dict_[y].append(x)\n",
    "    \n",
    "    answer = 1\n",
    "    for k in dict_.keys():\n",
    "        answer *= (len(dict_[k]) + 1)\n",
    "        \n",
    "    return answer - 1"
   ]
  },
  {
   "cell_type": "code",
   "execution_count": 1,
   "metadata": {},
   "outputs": [],
   "source": [
    "from collections import Counter\n",
    "from functools import reduce\n",
    "    \n",
    "def solution(clothes):\n",
    "    cnt = Counter([kind for name, kind in clothes])\n",
    "    answer = reduce(lambda x, y: x*(y+1), cnt.values(), 1) - 1\n",
    "    return answer"
   ]
  },
  {
   "cell_type": "markdown",
   "metadata": {},
   "source": [
    "### 4. 베스트앨범"
   ]
  },
  {
   "cell_type": "code",
   "execution_count": 404,
   "metadata": {},
   "outputs": [],
   "source": [
    "from collections import defaultdict\n",
    "\n",
    "def solution(genres, plays):\n",
    "    _dict = defaultdict(list)\n",
    "    for i, (g, p) in enumerate(zip(genres, plays)):\n",
    "        _dict[g].append(p)\n",
    "    _dict = sorted(_dict.items(), key=lambda x: -sum(x[1]))\n",
    "\n",
    "    answer = []\n",
    "    plays_ = plays.copy()\n",
    "    for i, (g, p) in enumerate(_dict):\n",
    "        if len(p) != 1:\n",
    "            for j in range(2):\n",
    "                if j == 0:\n",
    "                    ans = plays_.index(max(p))\n",
    "                    idx = p.index(max(p))\n",
    "                    answer.append(ans)\n",
    "                    p[idx] = 0\n",
    "                    plays_[ans] = 0\n",
    "                else:\n",
    "                    ans = plays_.index(max(p))\n",
    "                    answer.append(ans)\n",
    "        else:\n",
    "            ans = plays_.index(max(p))\n",
    "            answer.append(ans) \n",
    "\n",
    "    return answer"
   ]
  }
 ],
 "metadata": {
  "kernelspec": {
   "display_name": "Python 3",
   "language": "python",
   "name": "python3"
  },
  "language_info": {
   "codemirror_mode": {
    "name": "ipython",
    "version": 3
   },
   "file_extension": ".py",
   "mimetype": "text/x-python",
   "name": "python",
   "nbconvert_exporter": "python",
   "pygments_lexer": "ipython3",
   "version": "3.8.5"
  },
  "toc": {
   "base_numbering": 1,
   "nav_menu": {},
   "number_sections": false,
   "sideBar": true,
   "skip_h1_title": false,
   "title_cell": "Table of Contents",
   "title_sidebar": "Contents",
   "toc_cell": false,
   "toc_position": {},
   "toc_section_display": true,
   "toc_window_display": false
  }
 },
 "nbformat": 4,
 "nbformat_minor": 4
}
