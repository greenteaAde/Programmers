{
 "cells": [
  {
   "cell_type": "markdown",
   "metadata": {},
   "source": [
    "### 1. 모의고사"
   ]
  },
  {
   "cell_type": "code",
   "execution_count": null,
   "metadata": {},
   "outputs": [],
   "source": [
    "def solution(answers):\n",
    "    l = len(answers)\n",
    "    a = '12345'; a = a * (l // len(a) + 1)\n",
    "    b = '21232425'; b = b * (l // len(b) + 1)\n",
    "    c = '3311224455'; c = c * (l // len(c) + 1)\n",
    "\n",
    "    ans = [0, 0, 0]\n",
    "\n",
    "    for w, x, y, z  in zip(a, b, c, answers):\n",
    "        if w == str(z):\n",
    "            ans[0] += 1\n",
    "        if x == str(z):\n",
    "            ans[1] += 1\n",
    "        if y == str(z):\n",
    "            ans[2] += 1\n",
    "\n",
    "    answer = []\n",
    "    m = max(ans)\n",
    "    if ans_a == m:\n",
    "        answer.append(1)\n",
    "    if ans_b == m:\n",
    "        answer.append(2)\n",
    "    if ans_c == m:\n",
    "        answer.append(3)\n",
    "\n",
    "    return answer"
   ]
  },
  {
   "cell_type": "markdown",
   "metadata": {},
   "source": [
    "### 2. 소수찾기"
   ]
  },
  {
   "cell_type": "code",
   "execution_count": 99,
   "metadata": {},
   "outputs": [],
   "source": [
    "from itertools import permutations\n",
    "\n",
    "def isprime(x):\n",
    "    if x == 1 or x == 0:\n",
    "        return False\n",
    "    for i in range(2, x):\n",
    "        if x % i == 0:\n",
    "            return False\n",
    "            break\n",
    "    return True\n",
    "\n",
    "def solution(numbers):\n",
    "    answer = 0\n",
    "    number = []\n",
    "    for i in range(1, len(numbers)+1):\n",
    "        nums = list(map(''.join, permutations(numbers, i)))\n",
    "        number += nums\n",
    "    \n",
    "    number = list(set((map(int, number))))\n",
    "    for n in number:\n",
    "        if isprime(n):\n",
    "            answer += 1\n",
    "    return answer"
   ]
  },
  {
   "cell_type": "code",
   "execution_count": 100,
   "metadata": {},
   "outputs": [
    {
     "data": {
      "text/plain": [
       "2"
      ]
     },
     "execution_count": 100,
     "metadata": {},
     "output_type": "execute_result"
    }
   ],
   "source": [
    "solution('110')"
   ]
  },
  {
   "cell_type": "code",
   "execution_count": null,
   "metadata": {},
   "outputs": [],
   "source": [
    "from itertools import permutations\n",
    "\n",
    "def solution(n):\n",
    "    a = set()\n",
    "    for i in range(len(n)):\n",
    "        a |= set(map(int, map(\"\".join, permutations(list(n), i + 1))))\n",
    "    a -= set(range(0, 2))\n",
    "    for i in range(2, int(max(a) ** 0.5) + 1):\n",
    "        a -= set(range(i * 2, max(a) + 1, i))\n",
    "    return len(a)"
   ]
  },
  {
   "cell_type": "markdown",
   "metadata": {},
   "source": [
    "### 3. 카펫"
   ]
  },
  {
   "cell_type": "code",
   "execution_count": 30,
   "metadata": {},
   "outputs": [],
   "source": [
    "def solution(brown, yellow):\n",
    "    for i in range(1, int(brown/4)):\n",
    "        x = brown/2 - i\n",
    "        y = i\n",
    "        if x * (y+2) == brown + yellow:\n",
    "            return [x, y+2]"
   ]
  }
 ],
 "metadata": {
  "kernelspec": {
   "display_name": "Python 3",
   "language": "python",
   "name": "python3"
  },
  "language_info": {
   "codemirror_mode": {
    "name": "ipython",
    "version": 3
   },
   "file_extension": ".py",
   "mimetype": "text/x-python",
   "name": "python",
   "nbconvert_exporter": "python",
   "pygments_lexer": "ipython3",
   "version": "3.8.5"
  },
  "toc": {
   "base_numbering": 1,
   "nav_menu": {},
   "number_sections": true,
   "sideBar": true,
   "skip_h1_title": false,
   "title_cell": "Table of Contents",
   "title_sidebar": "Contents",
   "toc_cell": false,
   "toc_position": {},
   "toc_section_display": true,
   "toc_window_display": false
  }
 },
 "nbformat": 4,
 "nbformat_minor": 4
}
